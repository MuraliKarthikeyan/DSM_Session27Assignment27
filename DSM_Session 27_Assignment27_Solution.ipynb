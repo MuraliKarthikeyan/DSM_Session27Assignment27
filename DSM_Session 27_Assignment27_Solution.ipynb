{
 "cells": [
  {
   "cell_type": "markdown",
   "metadata": {},
   "source": [
    "# Data Science Masters :Assignment 27\n"
   ]
  },
  {
   "cell_type": "markdown",
   "metadata": {},
   "source": [
    "# Problem:\n",
    "To use the K-nearest neighbors algorithm to predict how many points NBA players scored in the 2013-2014 season."
   ]
  },
  {
   "cell_type": "markdown",
   "metadata": {},
   "source": [
    "# Solution: "
   ]
  },
  {
   "cell_type": "markdown",
   "metadata": {},
   "source": [
    "Importing Libraries..."
   ]
  },
  {
   "cell_type": "code",
   "execution_count": 1,
   "metadata": {},
   "outputs": [],
   "source": [
    "# Mathematical computation\n",
    "import numpy as np\n",
    "\n",
    "# DateFrame setup\n",
    "import pandas as pd\n",
    "\n",
    "# Data Visualization\n",
    "import matplotlib.pyplot as plt\n",
    "%matplotlib inline \n",
    "import seaborn as sns\n",
    "\n",
    "# Machine learning pkgs\n",
    "from sklearn.metrics import mean_absolute_error , mean_squared_error \n",
    "from sklearn.model_selection import GridSearchCV , train_test_split\n",
    "from sklearn.neighbors import KNeighborsRegressor , kneighbors_graph"
   ]
  },
  {
   "cell_type": "markdown",
   "metadata": {},
   "source": [
    "# Data Pre-processing Steps"
   ]
  },
  {
   "cell_type": "code",
   "execution_count": 2,
   "metadata": {},
   "outputs": [],
   "source": [
    "# loading Dataset\n",
    "with open(\"nba_2013.csv\", 'r') as csvfile:\n",
    "    nba = pd.read_csv(csvfile)"
   ]
  },
  {
   "cell_type": "code",
   "execution_count": 3,
   "metadata": {},
   "outputs": [
    {
     "data": {
      "text/html": [
       "<div>\n",
       "<style scoped>\n",
       "    .dataframe tbody tr th:only-of-type {\n",
       "        vertical-align: middle;\n",
       "    }\n",
       "\n",
       "    .dataframe tbody tr th {\n",
       "        vertical-align: top;\n",
       "    }\n",
       "\n",
       "    .dataframe thead th {\n",
       "        text-align: right;\n",
       "    }\n",
       "</style>\n",
       "<table border=\"1\" class=\"dataframe\">\n",
       "  <thead>\n",
       "    <tr style=\"text-align: right;\">\n",
       "      <th></th>\n",
       "      <th>player</th>\n",
       "      <th>pos</th>\n",
       "      <th>age</th>\n",
       "      <th>bref_team_id</th>\n",
       "      <th>g</th>\n",
       "      <th>gs</th>\n",
       "      <th>mp</th>\n",
       "      <th>fg</th>\n",
       "      <th>fga</th>\n",
       "      <th>fg.</th>\n",
       "      <th>...</th>\n",
       "      <th>drb</th>\n",
       "      <th>trb</th>\n",
       "      <th>ast</th>\n",
       "      <th>stl</th>\n",
       "      <th>blk</th>\n",
       "      <th>tov</th>\n",
       "      <th>pf</th>\n",
       "      <th>pts</th>\n",
       "      <th>season</th>\n",
       "      <th>season_end</th>\n",
       "    </tr>\n",
       "  </thead>\n",
       "  <tbody>\n",
       "    <tr>\n",
       "      <th>0</th>\n",
       "      <td>Quincy Acy</td>\n",
       "      <td>SF</td>\n",
       "      <td>23</td>\n",
       "      <td>TOT</td>\n",
       "      <td>63</td>\n",
       "      <td>0</td>\n",
       "      <td>847</td>\n",
       "      <td>66</td>\n",
       "      <td>141</td>\n",
       "      <td>0.468</td>\n",
       "      <td>...</td>\n",
       "      <td>144</td>\n",
       "      <td>216</td>\n",
       "      <td>28</td>\n",
       "      <td>23</td>\n",
       "      <td>26</td>\n",
       "      <td>30</td>\n",
       "      <td>122</td>\n",
       "      <td>171</td>\n",
       "      <td>2013-2014</td>\n",
       "      <td>2013</td>\n",
       "    </tr>\n",
       "    <tr>\n",
       "      <th>1</th>\n",
       "      <td>Steven Adams</td>\n",
       "      <td>C</td>\n",
       "      <td>20</td>\n",
       "      <td>OKC</td>\n",
       "      <td>81</td>\n",
       "      <td>20</td>\n",
       "      <td>1197</td>\n",
       "      <td>93</td>\n",
       "      <td>185</td>\n",
       "      <td>0.503</td>\n",
       "      <td>...</td>\n",
       "      <td>190</td>\n",
       "      <td>332</td>\n",
       "      <td>43</td>\n",
       "      <td>40</td>\n",
       "      <td>57</td>\n",
       "      <td>71</td>\n",
       "      <td>203</td>\n",
       "      <td>265</td>\n",
       "      <td>2013-2014</td>\n",
       "      <td>2013</td>\n",
       "    </tr>\n",
       "    <tr>\n",
       "      <th>2</th>\n",
       "      <td>Jeff Adrien</td>\n",
       "      <td>PF</td>\n",
       "      <td>27</td>\n",
       "      <td>TOT</td>\n",
       "      <td>53</td>\n",
       "      <td>12</td>\n",
       "      <td>961</td>\n",
       "      <td>143</td>\n",
       "      <td>275</td>\n",
       "      <td>0.520</td>\n",
       "      <td>...</td>\n",
       "      <td>204</td>\n",
       "      <td>306</td>\n",
       "      <td>38</td>\n",
       "      <td>24</td>\n",
       "      <td>36</td>\n",
       "      <td>39</td>\n",
       "      <td>108</td>\n",
       "      <td>362</td>\n",
       "      <td>2013-2014</td>\n",
       "      <td>2013</td>\n",
       "    </tr>\n",
       "    <tr>\n",
       "      <th>3</th>\n",
       "      <td>Arron Afflalo</td>\n",
       "      <td>SG</td>\n",
       "      <td>28</td>\n",
       "      <td>ORL</td>\n",
       "      <td>73</td>\n",
       "      <td>73</td>\n",
       "      <td>2552</td>\n",
       "      <td>464</td>\n",
       "      <td>1011</td>\n",
       "      <td>0.459</td>\n",
       "      <td>...</td>\n",
       "      <td>230</td>\n",
       "      <td>262</td>\n",
       "      <td>248</td>\n",
       "      <td>35</td>\n",
       "      <td>3</td>\n",
       "      <td>146</td>\n",
       "      <td>136</td>\n",
       "      <td>1330</td>\n",
       "      <td>2013-2014</td>\n",
       "      <td>2013</td>\n",
       "    </tr>\n",
       "    <tr>\n",
       "      <th>4</th>\n",
       "      <td>Alexis Ajinca</td>\n",
       "      <td>C</td>\n",
       "      <td>25</td>\n",
       "      <td>NOP</td>\n",
       "      <td>56</td>\n",
       "      <td>30</td>\n",
       "      <td>951</td>\n",
       "      <td>136</td>\n",
       "      <td>249</td>\n",
       "      <td>0.546</td>\n",
       "      <td>...</td>\n",
       "      <td>183</td>\n",
       "      <td>277</td>\n",
       "      <td>40</td>\n",
       "      <td>23</td>\n",
       "      <td>46</td>\n",
       "      <td>63</td>\n",
       "      <td>187</td>\n",
       "      <td>328</td>\n",
       "      <td>2013-2014</td>\n",
       "      <td>2013</td>\n",
       "    </tr>\n",
       "  </tbody>\n",
       "</table>\n",
       "<p>5 rows × 31 columns</p>\n",
       "</div>"
      ],
      "text/plain": [
       "          player pos  age bref_team_id   g  gs    mp   fg   fga    fg.  \\\n",
       "0     Quincy Acy  SF   23          TOT  63   0   847   66   141  0.468   \n",
       "1   Steven Adams   C   20          OKC  81  20  1197   93   185  0.503   \n",
       "2    Jeff Adrien  PF   27          TOT  53  12   961  143   275  0.520   \n",
       "3  Arron Afflalo  SG   28          ORL  73  73  2552  464  1011  0.459   \n",
       "4  Alexis Ajinca   C   25          NOP  56  30   951  136   249  0.546   \n",
       "\n",
       "      ...      drb  trb  ast  stl  blk  tov   pf   pts     season  season_end  \n",
       "0     ...      144  216   28   23   26   30  122   171  2013-2014        2013  \n",
       "1     ...      190  332   43   40   57   71  203   265  2013-2014        2013  \n",
       "2     ...      204  306   38   24   36   39  108   362  2013-2014        2013  \n",
       "3     ...      230  262  248   35    3  146  136  1330  2013-2014        2013  \n",
       "4     ...      183  277   40   23   46   63  187   328  2013-2014        2013  \n",
       "\n",
       "[5 rows x 31 columns]"
      ]
     },
     "execution_count": 3,
     "metadata": {},
     "output_type": "execute_result"
    }
   ],
   "source": [
    "# Sample data\n",
    "nba.head()"
   ]
  },
  {
   "cell_type": "code",
   "execution_count": 4,
   "metadata": {},
   "outputs": [
    {
     "data": {
      "text/plain": [
       "Index(['player', 'pos', 'age', 'bref_team_id', 'g', 'gs', 'mp', 'fg', 'fga',\n",
       "       'fg.', 'x3p', 'x3pa', 'x3p.', 'x2p', 'x2pa', 'x2p.', 'efg.', 'ft',\n",
       "       'fta', 'ft.', 'orb', 'drb', 'trb', 'ast', 'stl', 'blk', 'tov', 'pf',\n",
       "       'pts', 'season', 'season_end'],\n",
       "      dtype='object')"
      ]
     },
     "execution_count": 4,
     "metadata": {},
     "output_type": "execute_result"
    }
   ],
   "source": [
    "# Column names...\n",
    "nba.columns"
   ]
  },
  {
   "cell_type": "markdown",
   "metadata": {},
   "source": [
    "# Exploring Data - Analysis"
   ]
  },
  {
   "cell_type": "code",
   "execution_count": 5,
   "metadata": {},
   "outputs": [
    {
     "name": "stdout",
     "output_type": "stream",
     "text": [
      "<class 'pandas.core.frame.DataFrame'>\n",
      "RangeIndex: 481 entries, 0 to 480\n",
      "Data columns (total 31 columns):\n",
      "player          481 non-null object\n",
      "pos             481 non-null object\n",
      "age             481 non-null int64\n",
      "bref_team_id    481 non-null object\n",
      "g               481 non-null int64\n",
      "gs              481 non-null int64\n",
      "mp              481 non-null int64\n",
      "fg              481 non-null int64\n",
      "fga             481 non-null int64\n",
      "fg.             479 non-null float64\n",
      "x3p             481 non-null int64\n",
      "x3pa            481 non-null int64\n",
      "x3p.            414 non-null float64\n",
      "x2p             481 non-null int64\n",
      "x2pa            481 non-null int64\n",
      "x2p.            478 non-null float64\n",
      "efg.            479 non-null float64\n",
      "ft              481 non-null int64\n",
      "fta             481 non-null int64\n",
      "ft.             461 non-null float64\n",
      "orb             481 non-null int64\n",
      "drb             481 non-null int64\n",
      "trb             481 non-null int64\n",
      "ast             481 non-null int64\n",
      "stl             481 non-null int64\n",
      "blk             481 non-null int64\n",
      "tov             481 non-null int64\n",
      "pf              481 non-null int64\n",
      "pts             481 non-null int64\n",
      "season          481 non-null object\n",
      "season_end      481 non-null int64\n",
      "dtypes: float64(5), int64(22), object(4)\n",
      "memory usage: 116.6+ KB\n"
     ]
    }
   ],
   "source": [
    "# information on dataset\n",
    "nba.info()"
   ]
  },
  {
   "cell_type": "code",
   "execution_count": 6,
   "metadata": {},
   "outputs": [],
   "source": [
    "# checking for duplicates and dropping the same...\n",
    "if(nba.duplicated().any()):\n",
    "    nba=df_AdultData_trainSet.drop_duplicates(keep='first')"
   ]
  },
  {
   "cell_type": "code",
   "execution_count": 7,
   "metadata": {},
   "outputs": [
    {
     "name": "stdout",
     "output_type": "stream",
     "text": [
      "player  : ['Quincy Acy' 'Steven Adams' 'Jeff Adrien' 'Arron Afflalo' 'Alexis Ajinca'\n",
      " 'Cole Aldrich' 'LaMarcus Aldridge' 'Lavoy Allen' 'Ray Allen' 'Tony Allen'\n",
      " 'Al-Farouq Aminu' 'Louis Amundson' 'Chris Andersen' 'Alan Anderson'\n",
      " 'James Anderson' 'Ryan Anderson' 'Giannis Antetokounmpo'\n",
      " 'Carmelo Anthony' 'Joel Anthony' 'Pero Antic' 'Trevor Ariza'\n",
      " 'Hilton Armstrong' 'Darrell Arthur' 'Omer Asik' 'D.J. Augustin'\n",
      " 'Gustavo Ayon' 'Jeff Ayres' 'Chris Babb' 'Luke Babbitt' 'Leandro Barbosa'\n",
      " 'Jose Barea' 'Andrea Bargnani' 'Harrison Barnes' 'Matt Barnes'\n",
      " 'Will Barton' 'Brandon Bass' 'Shane Battier' 'Nicolas Batum'\n",
      " 'Jerryd Bayless' 'Aron Baynes' 'Kent Bazemore' 'Bradley Beal'\n",
      " 'Michael Beasley' 'Marco Belinelli' 'Anthony Bennett' 'Patrick Beverley'\n",
      " 'Andris Biedrins' 'Chauncey Billups' 'Bismack Biyombo' 'DeJuan Blair'\n",
      " 'Steve Blake' 'Andray Blatche' 'Eric Bledsoe' 'Vander Blue'\n",
      " 'Keith Bogans' 'Andrew Bogut' 'Matt Bonner' 'Trevor Booker'\n",
      " 'Carlos Boozer' 'Chris Bosh' 'Avery Bradley' 'Elton Brand' 'Corey Brewer'\n",
      " 'Ronnie Brewer' 'Aaron Brooks' 'MarShon Brooks' 'Lorenzo Brown'\n",
      " 'Shannon Brown' 'Kobe Bryant' 'Chase Budinger' 'Reggie Bullock'\n",
      " 'Trey Burke' 'Alec Burks' 'Caron Butler' 'Jimmy Butler' 'Rasual Butler'\n",
      " 'Dwight Buycks' 'Andrew Bynum' 'Will Bynum' 'Nick Calathes'\n",
      " 'Jose Calderon' 'Kentavious Caldwell-Pope' 'Isaiah Canaan'\n",
      " 'DeMarre Carroll' 'Vince Carter' 'Michael Carter-Williams' 'Omri Casspi'\n",
      " 'Mario Chalmers' 'Tyson Chandler' 'Wilson Chandler' 'Josh Childress'\n",
      " 'Dionte Christmas' 'Earl Clark' 'Ian Clark' 'Victor Claver' 'Norris Cole'\n",
      " 'Jason Collins' 'Darren Collison' 'Nick Collison' 'Mike Conley'\n",
      " 'Chris Copeland' 'DeMarcus Cousins' 'Robert Covington' 'Allen Crabbe'\n",
      " 'Jamal Crawford' 'Jordan Crawford' 'Jae Crowder' 'Dante Cunningham'\n",
      " 'Jared Cunningham' 'Seth Curry' 'Stephen Curry' 'Samuel Dalembert'\n",
      " 'Troy Daniels' 'Luigi Datome' 'Brandon Davies' 'Anthony Davis' 'Ed Davis'\n",
      " 'Glen Davis' 'Austin Daye' 'Nando De Colo' 'Dewayne Dedmon'\n",
      " 'Matthew Dellavedova' 'Luol Deng' 'DeMar DeRozan' 'Boris Diaw'\n",
      " 'Gorgui Dieng' 'Toney Douglas' 'Chris Douglas-Roberts' 'Goran Dragic'\n",
      " 'Andre Drummond' 'Jared Dudley' 'Tim Duncan' 'Mike Dunleavy'\n",
      " 'Kevin Durant' 'Shane Edwards' 'Wayne Ellington' 'Monta Ellis'\n",
      " 'Melvin Ely' 'Jeremy Evans' 'Reggie Evans' 'Tyreke Evans'\n",
      " 'Kenneth Faried' 'Jordan Farmar' 'Vitor Faverani' 'Derrick Favors'\n",
      " 'Carrick Felix' 'Raymond Felton' 'Landry Fields' 'Derek Fisher'\n",
      " 'Evan Fournier' 'Randy Foye' 'Jamaal Franklin' 'Jimmer Fredette'\n",
      " 'Joel Freeland' 'Channing Frye' 'Francisco Garcia' 'Kevin Garnett'\n",
      " 'Diante Garrett' 'Marc Gasol' 'Pau Gasol' 'Rudy Gay' 'Alonzo Gee'\n",
      " 'Paul George' 'Taj Gibson' 'Manu Ginobili' 'Rudy Gobert' 'Ryan Gomes'\n",
      " 'Drew Gooden' 'Archie Goodwin' 'Ben Gordon' 'Eric Gordon' 'Marcin Gortat'\n",
      " 'Danny Granger' 'Aaron Gray' 'Danny Green' 'Draymond Green'\n",
      " 'Gerald Green' 'Jeff Green' 'Willie Green' 'Blake Griffin'\n",
      " 'Jorge Gutierrez' 'Jordan Hamilton' 'Justin Hamilton' 'Tyler Hansbrough'\n",
      " 'Tim Hardaway' 'James Harden' 'Maurice Harkless' 'Josh Harrellson'\n",
      " 'Al Harrington' 'Devin Harris' 'Elias Harris' 'Manny Harris'\n",
      " 'Mike Harris' 'Tobias Harris' 'Udonis Haslem' 'Spencer Hawes'\n",
      " 'Chuck Hayes' 'Gordon Hayward' 'Gerald Henderson' 'Xavier Henry'\n",
      " 'John Henson' 'Roy Hibbert' 'J.J. Hickson' 'Nene Hilario' 'George Hill'\n",
      " 'Jordan Hill' 'Solomon Hill' 'Kirk Hinrich' 'Jrue Holiday' 'Ryan Hollins'\n",
      " 'Scotty Hopson' 'Al Horford' 'Dwight Howard' 'Robbie Hummel'\n",
      " 'Kris Humphries' 'Serge Ibaka' 'Andre Iguodala' 'Ersan Ilyasova'\n",
      " 'Kyrie Irving' 'Royal Ivey' 'Jarrett Jack' 'Reggie Jackson'\n",
      " 'Stephen Jackson' 'Bernard James' 'Damion James' 'LeBron James'\n",
      " 'Mike James' 'Antawn Jamison' 'Othyus Jeffers' 'Al Jefferson'\n",
      " 'Richard Jefferson' 'John Jenkins' 'Brandon Jennings' 'Jonas Jerebko'\n",
      " 'Amir Johnson' 'Chris Johnson' 'James Johnson' 'Joe Johnson'\n",
      " 'Orlando Johnson' 'Wesley Johnson' 'Darius Johnson-Odom' 'James Jones'\n",
      " 'Perry Jones' 'Solomon Jones' 'Terrence Jones' 'DeAndre Jordan'\n",
      " 'Cory Joseph' 'Chris Kaman' 'Enes Kanter' 'Sergey Karasev' 'Ryan Kelly'\n",
      " 'Michael Kidd-Gilchrist' 'Andrei Kirilenko' 'Brandon Knight'\n",
      " 'Kyle Korver' 'Kosta Koufos' 'Viacheslav Kravtsov' 'Ognjen Kuzmic'\n",
      " 'Doron Lamb' 'Jeremy Lamb' 'Carl Landry' 'Shane Larkin' 'Ty Lawson'\n",
      " 'Ricky Ledo' 'Courtney Lee' 'David Lee' 'Alex Len' 'Kawhi Leonard'\n",
      " 'Meyers Leonard' 'Jon Leuer' 'Rashard Lewis' 'DeAndre Liggins'\n",
      " 'Damian Lillard' 'Jeremy Lin' 'Shaun Livingston' 'Brook Lopez'\n",
      " 'Robin Lopez' 'Kevin Love' 'Kyle Lowry' 'John Lucas' 'Shelvin Mack'\n",
      " 'Ian Mahinmi' 'Shawn Marion' 'Kendall Marshall' 'Cartier Martin'\n",
      " 'Kenyon Martin' 'Kevin Martin' 'Roger Mason' 'Wesley Matthews'\n",
      " 'Jason Maxiell' 'Eric Maynor' 'O.J. Mayo' 'Luc Mbah a Moute'\n",
      " 'Ray McCallum' 'C.J. McCollum' 'JaVale McGee' 'Ben McLemore'\n",
      " 'Josh McRoberts' 'Jodie Meeks' 'Gal Mekel' 'Khris Middleton' 'C.J. Miles'\n",
      " 'Andre Miller' 'Darius Miller' 'Mike Miller' 'Quincy Miller'\n",
      " 'Patrick Mills' 'Paul Millsap' 'Tony Mitchell' 'Nazr Mohammed'\n",
      " 'Greg Monroe' \"E'Twaun Moore\" 'Darius Morris' 'Marcus Morris'\n",
      " 'Markieff Morris' 'Anthony Morrow' 'Donatas Motiejunas' 'Arnett Moultrie'\n",
      " 'Timofey Mozgov' 'Shabazz Muhammad' 'Byron Mullens' 'Erik Murphy'\n",
      " \"Toure' Murry\" 'Mike Muscala' \"Hamady N'Diaye\" 'Steve Nash' 'Gary Neal'\n",
      " 'Nemanja Nedovic' 'Jameer Nelson' 'Andrew Nicholson' 'Joakim Noah'\n",
      " 'Steve Novak' 'Dirk Nowitzki' 'James Nunnally' \"Jermaine O'Neal\"\n",
      " \"Kyle O'Quinn\" 'Greg Oden' 'Victor Oladipo' 'Kelly Olynyk'\n",
      " 'Arinze Onuaku' 'Daniel Orton' 'Travis Outlaw' 'Zaza Pachulia'\n",
      " 'Jannero Pargo' 'Tony Parker' 'Chandler Parsons' 'Patrick Patterson'\n",
      " 'Chris Paul' 'Nikola Pekovic' 'Kendrick Perkins' 'Paul Pierce'\n",
      " 'Dexter Pittman' 'Mason Plumlee' 'Miles Plumlee' 'Quincy Pondexter'\n",
      " 'Otto Porter' 'Josh Powell' 'Phil Pressey' 'A.J. Price' 'Ronnie Price'\n",
      " 'Pablo Prigioni' 'Tayshaun Prince' 'Miroslav Raduljica'\n",
      " 'Anthony Randolph' 'Shavlik Randolph' 'Zach Randolph' 'J.J. Redick'\n",
      " 'Glen Rice' 'Luke Ridnour' 'Austin Rivers' 'Andre Roberson'\n",
      " 'Brian Roberts' 'Nate Robinson' 'Thomas Robinson' 'Rajon Rondo'\n",
      " 'Derrick Rose' 'Terrence Ross' 'Ricky Rubio' 'Brandon Rush'\n",
      " 'Robert Sacre' 'John Salmons' 'Larry Sanders' 'Dennis SchrÃ¶der'\n",
      " 'Luis Scola' 'Mike Scott' 'Thabo Sefolosha' 'Kevin Seraphin'\n",
      " 'Ramon Sessions' 'Mustafa Shakur' 'Tornike Shengelia' 'Iman Shumpert'\n",
      " 'Alexey Shved' 'Henry Sims' 'Kyle Singler' 'Chris Singleton'\n",
      " 'Peyton Siva' 'Donald Sloan' 'Chris Smith' 'Greg Smith' 'Ish Smith'\n",
      " 'J.R. Smith' 'Jason Smith' 'Josh Smith' 'Tony Snell' 'James Southerland'\n",
      " 'Marreese Speights' 'Tiago Splitter' 'D.J. Stephens' 'Lance Stephenson'\n",
      " 'Greg Stiemsma' 'Julyan Stone' \"Amar'e Stoudemire\" 'Rodney Stuckey'\n",
      " 'Jared Sullinger' 'Jeffery Taylor' 'Tyshawn Taylor' 'Jeff Teague'\n",
      " 'Marquis Teague' 'Mirza Teletovic' 'Garrett Temple' 'Jason Terry'\n",
      " 'Hasheem Thabeet' 'Adonis Thomas' 'Isaiah Thomas' 'Lance Thomas'\n",
      " 'Malcolm Thomas' 'Hollis Thompson' 'Jason Thompson' 'Klay Thompson'\n",
      " 'Tristan Thompson' 'Marcus Thornton' 'Jamaal Tinsley' 'Anthony Tolliver'\n",
      " 'P.J. Tucker' 'Ronny Turiaf' 'Hedo Turkoglu' 'Evan Turner' 'Jeremy Tyler'\n",
      " 'Ekpe Udoh' 'Beno Udrih' 'Jonas Valanciunas' 'Anderson Varejao'\n",
      " 'Jarvis Varnado' 'Greivis Vasquez' 'Jan Vesely' 'Charlie Villanueva'\n",
      " 'Nikola Vucevic' 'Sasha Vujacic' 'Dwyane Wade' 'Dion Waiters'\n",
      " 'Kemba Walker' 'John Wall' 'Gerald Wallace' 'Casper Ware' 'C.J. Watson'\n",
      " 'Earl Watson' 'Maalik Wayns' 'Martell Webster' 'David West'\n",
      " 'Russell Westbrook' 'D.J. White' 'Royce White' 'Deron Williams'\n",
      " 'Derrick Williams' 'Elliot Williams' 'Louis Williams' 'Marvin Williams'\n",
      " 'Mo Williams' 'Reggie Williams' 'Shawne Williams' 'Jeff Withey'\n",
      " 'Nate Wolters' 'Metta World Peace' 'Brandan Wright' 'Chris Wright'\n",
      " 'Dorell Wright' 'Tony Wroten' 'Nick Young' 'Thaddeus Young' 'Cody Zeller'\n",
      " 'Tyler Zeller'] \n",
      "\n",
      "pos  : ['SF' 'C' 'PF' 'SG' 'PG' 'G' 'F'] \n",
      "\n",
      "bref_team_id  : ['TOT' 'OKC' 'ORL' 'NOP' 'NYK' 'POR' 'MIA' 'MEM' 'BRK' 'PHI' 'MIL' 'ATL'\n",
      " 'WAS' 'GSW' 'DEN' 'HOU' 'SAS' 'BOS' 'PHO' 'MIN' 'LAC' 'CLE' 'UTA' 'DET'\n",
      " 'CHA' 'DAL' 'CHI' 'LAL' 'IND' 'TOR' 'SAC'] \n",
      "\n",
      "season  : ['2013-2014'] \n",
      "\n"
     ]
    }
   ],
   "source": [
    "# Printing unique values in each column in training set\n",
    "for col in nba.select_dtypes(include=[np.object]).columns:\n",
    "        print(col , \" :\" , nba[col].unique(),\"\\n\")"
   ]
  },
  {
   "cell_type": "markdown",
   "metadata": {},
   "source": [
    "As we can observe the columns player , bref_team_id , season & season_end are irrelevant when classification done with K-nearest neighbors algorithm. Hence, we need to drop from the given dataset."
   ]
  },
  {
   "cell_type": "code",
   "execution_count": 8,
   "metadata": {},
   "outputs": [
    {
     "data": {
      "text/html": [
       "<div>\n",
       "<style scoped>\n",
       "    .dataframe tbody tr th:only-of-type {\n",
       "        vertical-align: middle;\n",
       "    }\n",
       "\n",
       "    .dataframe tbody tr th {\n",
       "        vertical-align: top;\n",
       "    }\n",
       "\n",
       "    .dataframe thead th {\n",
       "        text-align: right;\n",
       "    }\n",
       "</style>\n",
       "<table border=\"1\" class=\"dataframe\">\n",
       "  <thead>\n",
       "    <tr style=\"text-align: right;\">\n",
       "      <th></th>\n",
       "      <th>pos</th>\n",
       "      <th>age</th>\n",
       "      <th>g</th>\n",
       "      <th>gs</th>\n",
       "      <th>mp</th>\n",
       "      <th>fg</th>\n",
       "      <th>fga</th>\n",
       "      <th>fg.</th>\n",
       "      <th>x3p</th>\n",
       "      <th>x3pa</th>\n",
       "      <th>...</th>\n",
       "      <th>ft.</th>\n",
       "      <th>orb</th>\n",
       "      <th>drb</th>\n",
       "      <th>trb</th>\n",
       "      <th>ast</th>\n",
       "      <th>stl</th>\n",
       "      <th>blk</th>\n",
       "      <th>tov</th>\n",
       "      <th>pf</th>\n",
       "      <th>pts</th>\n",
       "    </tr>\n",
       "  </thead>\n",
       "  <tbody>\n",
       "    <tr>\n",
       "      <th>0</th>\n",
       "      <td>SF</td>\n",
       "      <td>23</td>\n",
       "      <td>63</td>\n",
       "      <td>0</td>\n",
       "      <td>847</td>\n",
       "      <td>66</td>\n",
       "      <td>141</td>\n",
       "      <td>0.468</td>\n",
       "      <td>4</td>\n",
       "      <td>15</td>\n",
       "      <td>...</td>\n",
       "      <td>0.660</td>\n",
       "      <td>72</td>\n",
       "      <td>144</td>\n",
       "      <td>216</td>\n",
       "      <td>28</td>\n",
       "      <td>23</td>\n",
       "      <td>26</td>\n",
       "      <td>30</td>\n",
       "      <td>122</td>\n",
       "      <td>171</td>\n",
       "    </tr>\n",
       "    <tr>\n",
       "      <th>1</th>\n",
       "      <td>C</td>\n",
       "      <td>20</td>\n",
       "      <td>81</td>\n",
       "      <td>20</td>\n",
       "      <td>1197</td>\n",
       "      <td>93</td>\n",
       "      <td>185</td>\n",
       "      <td>0.503</td>\n",
       "      <td>0</td>\n",
       "      <td>0</td>\n",
       "      <td>...</td>\n",
       "      <td>0.581</td>\n",
       "      <td>142</td>\n",
       "      <td>190</td>\n",
       "      <td>332</td>\n",
       "      <td>43</td>\n",
       "      <td>40</td>\n",
       "      <td>57</td>\n",
       "      <td>71</td>\n",
       "      <td>203</td>\n",
       "      <td>265</td>\n",
       "    </tr>\n",
       "    <tr>\n",
       "      <th>2</th>\n",
       "      <td>PF</td>\n",
       "      <td>27</td>\n",
       "      <td>53</td>\n",
       "      <td>12</td>\n",
       "      <td>961</td>\n",
       "      <td>143</td>\n",
       "      <td>275</td>\n",
       "      <td>0.520</td>\n",
       "      <td>0</td>\n",
       "      <td>0</td>\n",
       "      <td>...</td>\n",
       "      <td>0.639</td>\n",
       "      <td>102</td>\n",
       "      <td>204</td>\n",
       "      <td>306</td>\n",
       "      <td>38</td>\n",
       "      <td>24</td>\n",
       "      <td>36</td>\n",
       "      <td>39</td>\n",
       "      <td>108</td>\n",
       "      <td>362</td>\n",
       "    </tr>\n",
       "    <tr>\n",
       "      <th>3</th>\n",
       "      <td>SG</td>\n",
       "      <td>28</td>\n",
       "      <td>73</td>\n",
       "      <td>73</td>\n",
       "      <td>2552</td>\n",
       "      <td>464</td>\n",
       "      <td>1011</td>\n",
       "      <td>0.459</td>\n",
       "      <td>128</td>\n",
       "      <td>300</td>\n",
       "      <td>...</td>\n",
       "      <td>0.815</td>\n",
       "      <td>32</td>\n",
       "      <td>230</td>\n",
       "      <td>262</td>\n",
       "      <td>248</td>\n",
       "      <td>35</td>\n",
       "      <td>3</td>\n",
       "      <td>146</td>\n",
       "      <td>136</td>\n",
       "      <td>1330</td>\n",
       "    </tr>\n",
       "    <tr>\n",
       "      <th>4</th>\n",
       "      <td>C</td>\n",
       "      <td>25</td>\n",
       "      <td>56</td>\n",
       "      <td>30</td>\n",
       "      <td>951</td>\n",
       "      <td>136</td>\n",
       "      <td>249</td>\n",
       "      <td>0.546</td>\n",
       "      <td>0</td>\n",
       "      <td>1</td>\n",
       "      <td>...</td>\n",
       "      <td>0.836</td>\n",
       "      <td>94</td>\n",
       "      <td>183</td>\n",
       "      <td>277</td>\n",
       "      <td>40</td>\n",
       "      <td>23</td>\n",
       "      <td>46</td>\n",
       "      <td>63</td>\n",
       "      <td>187</td>\n",
       "      <td>328</td>\n",
       "    </tr>\n",
       "  </tbody>\n",
       "</table>\n",
       "<p>5 rows × 27 columns</p>\n",
       "</div>"
      ],
      "text/plain": [
       "  pos  age   g  gs    mp   fg   fga    fg.  x3p  x3pa  ...     ft.  orb  drb  \\\n",
       "0  SF   23  63   0   847   66   141  0.468    4    15  ...   0.660   72  144   \n",
       "1   C   20  81  20  1197   93   185  0.503    0     0  ...   0.581  142  190   \n",
       "2  PF   27  53  12   961  143   275  0.520    0     0  ...   0.639  102  204   \n",
       "3  SG   28  73  73  2552  464  1011  0.459  128   300  ...   0.815   32  230   \n",
       "4   C   25  56  30   951  136   249  0.546    0     1  ...   0.836   94  183   \n",
       "\n",
       "   trb  ast  stl  blk  tov   pf   pts  \n",
       "0  216   28   23   26   30  122   171  \n",
       "1  332   43   40   57   71  203   265  \n",
       "2  306   38   24   36   39  108   362  \n",
       "3  262  248   35    3  146  136  1330  \n",
       "4  277   40   23   46   63  187   328  \n",
       "\n",
       "[5 rows x 27 columns]"
      ]
     },
     "execution_count": 8,
     "metadata": {},
     "output_type": "execute_result"
    }
   ],
   "source": [
    "# Drop columns which are not in need \n",
    "columns_to_del = ['player','bref_team_id','season','season_end']\n",
    "nba = nba.drop(columns=columns_to_del , axis= 1 )\n",
    "# Sample rows after removing columns..\n",
    "nba.head()"
   ]
  },
  {
   "cell_type": "code",
   "execution_count": 9,
   "metadata": {},
   "outputs": [],
   "source": [
    "# trimming white space in the dataset\n",
    "nba=nba.apply(lambda x: x.str.strip() if x.dtype == \"object\" else x) "
   ]
  },
  {
   "cell_type": "code",
   "execution_count": 10,
   "metadata": {},
   "outputs": [
    {
     "data": {
      "text/plain": [
       "pos      0\n",
       "age      0\n",
       "g        0\n",
       "gs       0\n",
       "mp       0\n",
       "fg       0\n",
       "fga      0\n",
       "fg.      2\n",
       "x3p      0\n",
       "x3pa     0\n",
       "x3p.    67\n",
       "x2p      0\n",
       "x2pa     0\n",
       "x2p.     3\n",
       "efg.     2\n",
       "ft       0\n",
       "fta      0\n",
       "ft.     20\n",
       "orb      0\n",
       "drb      0\n",
       "trb      0\n",
       "ast      0\n",
       "stl      0\n",
       "blk      0\n",
       "tov      0\n",
       "pf       0\n",
       "pts      0\n",
       "dtype: int64"
      ]
     },
     "execution_count": 10,
     "metadata": {},
     "output_type": "execute_result"
    }
   ],
   "source": [
    "# check null/na present in the dataset or not\n",
    "nba.isnull().sum()"
   ]
  },
  {
   "cell_type": "markdown",
   "metadata": {},
   "source": [
    "Looks like, columns x3p., x2p., ft., efg. and fg. contains null values. we would be replace them with their column's median value."
   ]
  },
  {
   "cell_type": "code",
   "execution_count": 11,
   "metadata": {},
   "outputs": [],
   "source": [
    "# replacing null with median value...\n",
    "cols = ['x3p.' , 'ft.' , 'x2p.' , 'fg.' , 'efg.']\n",
    "for col in cols:\n",
    "        nba[col].fillna(nba[col].median(),inplace=True)"
   ]
  },
  {
   "cell_type": "code",
   "execution_count": 12,
   "metadata": {},
   "outputs": [
    {
     "data": {
      "text/plain": [
       "False"
      ]
     },
     "execution_count": 12,
     "metadata": {},
     "output_type": "execute_result"
    }
   ],
   "source": [
    "nba.isnull().values.any()"
   ]
  },
  {
   "cell_type": "code",
   "execution_count": 13,
   "metadata": {},
   "outputs": [
    {
     "data": {
      "text/html": [
       "<div>\n",
       "<style scoped>\n",
       "    .dataframe tbody tr th:only-of-type {\n",
       "        vertical-align: middle;\n",
       "    }\n",
       "\n",
       "    .dataframe tbody tr th {\n",
       "        vertical-align: top;\n",
       "    }\n",
       "\n",
       "    .dataframe thead th {\n",
       "        text-align: right;\n",
       "    }\n",
       "</style>\n",
       "<table border=\"1\" class=\"dataframe\">\n",
       "  <thead>\n",
       "    <tr style=\"text-align: right;\">\n",
       "      <th></th>\n",
       "      <th>age</th>\n",
       "      <th>g</th>\n",
       "      <th>gs</th>\n",
       "      <th>mp</th>\n",
       "      <th>fg</th>\n",
       "      <th>fga</th>\n",
       "      <th>fg.</th>\n",
       "      <th>x3p</th>\n",
       "      <th>x3pa</th>\n",
       "      <th>x3p.</th>\n",
       "      <th>...</th>\n",
       "      <th>ft.</th>\n",
       "      <th>orb</th>\n",
       "      <th>drb</th>\n",
       "      <th>trb</th>\n",
       "      <th>ast</th>\n",
       "      <th>stl</th>\n",
       "      <th>blk</th>\n",
       "      <th>tov</th>\n",
       "      <th>pf</th>\n",
       "      <th>pts</th>\n",
       "    </tr>\n",
       "  </thead>\n",
       "  <tbody>\n",
       "    <tr>\n",
       "      <th>count</th>\n",
       "      <td>481.000000</td>\n",
       "      <td>481.000000</td>\n",
       "      <td>481.000000</td>\n",
       "      <td>481.000000</td>\n",
       "      <td>481.000000</td>\n",
       "      <td>481.000000</td>\n",
       "      <td>481.000000</td>\n",
       "      <td>481.000000</td>\n",
       "      <td>481.000000</td>\n",
       "      <td>481.000000</td>\n",
       "      <td>...</td>\n",
       "      <td>481.000000</td>\n",
       "      <td>481.000000</td>\n",
       "      <td>481.000000</td>\n",
       "      <td>481.000000</td>\n",
       "      <td>481.000000</td>\n",
       "      <td>481.000000</td>\n",
       "      <td>481.000000</td>\n",
       "      <td>481.000000</td>\n",
       "      <td>481.000000</td>\n",
       "      <td>481.000000</td>\n",
       "    </tr>\n",
       "    <tr>\n",
       "      <th>mean</th>\n",
       "      <td>26.509356</td>\n",
       "      <td>53.253638</td>\n",
       "      <td>25.571726</td>\n",
       "      <td>1237.386694</td>\n",
       "      <td>192.881497</td>\n",
       "      <td>424.463617</td>\n",
       "      <td>0.436443</td>\n",
       "      <td>39.613306</td>\n",
       "      <td>110.130977</td>\n",
       "      <td>0.291500</td>\n",
       "      <td>...</td>\n",
       "      <td>0.723607</td>\n",
       "      <td>55.810811</td>\n",
       "      <td>162.817048</td>\n",
       "      <td>218.627859</td>\n",
       "      <td>112.536383</td>\n",
       "      <td>39.280665</td>\n",
       "      <td>24.103950</td>\n",
       "      <td>71.862786</td>\n",
       "      <td>105.869023</td>\n",
       "      <td>516.582121</td>\n",
       "    </tr>\n",
       "    <tr>\n",
       "      <th>std</th>\n",
       "      <td>4.198265</td>\n",
       "      <td>25.322711</td>\n",
       "      <td>29.658465</td>\n",
       "      <td>897.258840</td>\n",
       "      <td>171.832793</td>\n",
       "      <td>368.850833</td>\n",
       "      <td>0.098467</td>\n",
       "      <td>50.855639</td>\n",
       "      <td>132.751732</td>\n",
       "      <td>0.147080</td>\n",
       "      <td>...</td>\n",
       "      <td>0.156898</td>\n",
       "      <td>62.101191</td>\n",
       "      <td>145.348116</td>\n",
       "      <td>200.356507</td>\n",
       "      <td>131.019557</td>\n",
       "      <td>34.783590</td>\n",
       "      <td>30.875381</td>\n",
       "      <td>62.701690</td>\n",
       "      <td>71.213627</td>\n",
       "      <td>470.422228</td>\n",
       "    </tr>\n",
       "    <tr>\n",
       "      <th>min</th>\n",
       "      <td>19.000000</td>\n",
       "      <td>1.000000</td>\n",
       "      <td>0.000000</td>\n",
       "      <td>1.000000</td>\n",
       "      <td>0.000000</td>\n",
       "      <td>0.000000</td>\n",
       "      <td>0.000000</td>\n",
       "      <td>0.000000</td>\n",
       "      <td>0.000000</td>\n",
       "      <td>0.000000</td>\n",
       "      <td>...</td>\n",
       "      <td>0.000000</td>\n",
       "      <td>0.000000</td>\n",
       "      <td>0.000000</td>\n",
       "      <td>0.000000</td>\n",
       "      <td>0.000000</td>\n",
       "      <td>0.000000</td>\n",
       "      <td>0.000000</td>\n",
       "      <td>0.000000</td>\n",
       "      <td>0.000000</td>\n",
       "      <td>0.000000</td>\n",
       "    </tr>\n",
       "    <tr>\n",
       "      <th>25%</th>\n",
       "      <td>23.000000</td>\n",
       "      <td>32.000000</td>\n",
       "      <td>0.000000</td>\n",
       "      <td>388.000000</td>\n",
       "      <td>47.000000</td>\n",
       "      <td>110.000000</td>\n",
       "      <td>0.401000</td>\n",
       "      <td>0.000000</td>\n",
       "      <td>3.000000</td>\n",
       "      <td>0.262626</td>\n",
       "      <td>...</td>\n",
       "      <td>0.657000</td>\n",
       "      <td>12.000000</td>\n",
       "      <td>43.000000</td>\n",
       "      <td>55.000000</td>\n",
       "      <td>20.000000</td>\n",
       "      <td>9.000000</td>\n",
       "      <td>4.000000</td>\n",
       "      <td>21.000000</td>\n",
       "      <td>44.000000</td>\n",
       "      <td>115.000000</td>\n",
       "    </tr>\n",
       "    <tr>\n",
       "      <th>50%</th>\n",
       "      <td>26.000000</td>\n",
       "      <td>61.000000</td>\n",
       "      <td>10.000000</td>\n",
       "      <td>1141.000000</td>\n",
       "      <td>146.000000</td>\n",
       "      <td>332.000000</td>\n",
       "      <td>0.438000</td>\n",
       "      <td>16.000000</td>\n",
       "      <td>48.000000</td>\n",
       "      <td>0.330976</td>\n",
       "      <td>...</td>\n",
       "      <td>0.751000</td>\n",
       "      <td>35.000000</td>\n",
       "      <td>135.000000</td>\n",
       "      <td>168.000000</td>\n",
       "      <td>65.000000</td>\n",
       "      <td>32.000000</td>\n",
       "      <td>14.000000</td>\n",
       "      <td>58.000000</td>\n",
       "      <td>104.000000</td>\n",
       "      <td>401.000000</td>\n",
       "    </tr>\n",
       "    <tr>\n",
       "      <th>75%</th>\n",
       "      <td>29.000000</td>\n",
       "      <td>76.000000</td>\n",
       "      <td>54.000000</td>\n",
       "      <td>2016.000000</td>\n",
       "      <td>307.000000</td>\n",
       "      <td>672.000000</td>\n",
       "      <td>0.479000</td>\n",
       "      <td>68.000000</td>\n",
       "      <td>193.000000</td>\n",
       "      <td>0.366460</td>\n",
       "      <td>...</td>\n",
       "      <td>0.816000</td>\n",
       "      <td>73.000000</td>\n",
       "      <td>230.000000</td>\n",
       "      <td>310.000000</td>\n",
       "      <td>152.000000</td>\n",
       "      <td>60.000000</td>\n",
       "      <td>32.000000</td>\n",
       "      <td>108.000000</td>\n",
       "      <td>158.000000</td>\n",
       "      <td>821.000000</td>\n",
       "    </tr>\n",
       "    <tr>\n",
       "      <th>max</th>\n",
       "      <td>39.000000</td>\n",
       "      <td>83.000000</td>\n",
       "      <td>82.000000</td>\n",
       "      <td>3122.000000</td>\n",
       "      <td>849.000000</td>\n",
       "      <td>1688.000000</td>\n",
       "      <td>1.000000</td>\n",
       "      <td>261.000000</td>\n",
       "      <td>615.000000</td>\n",
       "      <td>1.000000</td>\n",
       "      <td>...</td>\n",
       "      <td>1.000000</td>\n",
       "      <td>440.000000</td>\n",
       "      <td>783.000000</td>\n",
       "      <td>1114.000000</td>\n",
       "      <td>721.000000</td>\n",
       "      <td>191.000000</td>\n",
       "      <td>219.000000</td>\n",
       "      <td>295.000000</td>\n",
       "      <td>273.000000</td>\n",
       "      <td>2593.000000</td>\n",
       "    </tr>\n",
       "  </tbody>\n",
       "</table>\n",
       "<p>8 rows × 26 columns</p>\n",
       "</div>"
      ],
      "text/plain": [
       "              age           g          gs           mp          fg  \\\n",
       "count  481.000000  481.000000  481.000000   481.000000  481.000000   \n",
       "mean    26.509356   53.253638   25.571726  1237.386694  192.881497   \n",
       "std      4.198265   25.322711   29.658465   897.258840  171.832793   \n",
       "min     19.000000    1.000000    0.000000     1.000000    0.000000   \n",
       "25%     23.000000   32.000000    0.000000   388.000000   47.000000   \n",
       "50%     26.000000   61.000000   10.000000  1141.000000  146.000000   \n",
       "75%     29.000000   76.000000   54.000000  2016.000000  307.000000   \n",
       "max     39.000000   83.000000   82.000000  3122.000000  849.000000   \n",
       "\n",
       "               fga         fg.         x3p        x3pa        x3p.  \\\n",
       "count   481.000000  481.000000  481.000000  481.000000  481.000000   \n",
       "mean    424.463617    0.436443   39.613306  110.130977    0.291500   \n",
       "std     368.850833    0.098467   50.855639  132.751732    0.147080   \n",
       "min       0.000000    0.000000    0.000000    0.000000    0.000000   \n",
       "25%     110.000000    0.401000    0.000000    3.000000    0.262626   \n",
       "50%     332.000000    0.438000   16.000000   48.000000    0.330976   \n",
       "75%     672.000000    0.479000   68.000000  193.000000    0.366460   \n",
       "max    1688.000000    1.000000  261.000000  615.000000    1.000000   \n",
       "\n",
       "          ...              ft.         orb         drb          trb  \\\n",
       "count     ...       481.000000  481.000000  481.000000   481.000000   \n",
       "mean      ...         0.723607   55.810811  162.817048   218.627859   \n",
       "std       ...         0.156898   62.101191  145.348116   200.356507   \n",
       "min       ...         0.000000    0.000000    0.000000     0.000000   \n",
       "25%       ...         0.657000   12.000000   43.000000    55.000000   \n",
       "50%       ...         0.751000   35.000000  135.000000   168.000000   \n",
       "75%       ...         0.816000   73.000000  230.000000   310.000000   \n",
       "max       ...         1.000000  440.000000  783.000000  1114.000000   \n",
       "\n",
       "              ast         stl         blk         tov          pf          pts  \n",
       "count  481.000000  481.000000  481.000000  481.000000  481.000000   481.000000  \n",
       "mean   112.536383   39.280665   24.103950   71.862786  105.869023   516.582121  \n",
       "std    131.019557   34.783590   30.875381   62.701690   71.213627   470.422228  \n",
       "min      0.000000    0.000000    0.000000    0.000000    0.000000     0.000000  \n",
       "25%     20.000000    9.000000    4.000000   21.000000   44.000000   115.000000  \n",
       "50%     65.000000   32.000000   14.000000   58.000000  104.000000   401.000000  \n",
       "75%    152.000000   60.000000   32.000000  108.000000  158.000000   821.000000  \n",
       "max    721.000000  191.000000  219.000000  295.000000  273.000000  2593.000000  \n",
       "\n",
       "[8 rows x 26 columns]"
      ]
     },
     "execution_count": 13,
     "metadata": {},
     "output_type": "execute_result"
    }
   ],
   "source": [
    "# Statistical observation on numeric columns\n",
    "nba.describe()"
   ]
  },
  {
   "cell_type": "code",
   "execution_count": 14,
   "metadata": {},
   "outputs": [
    {
     "data": {
      "text/html": [
       "<div>\n",
       "<style scoped>\n",
       "    .dataframe tbody tr th:only-of-type {\n",
       "        vertical-align: middle;\n",
       "    }\n",
       "\n",
       "    .dataframe tbody tr th {\n",
       "        vertical-align: top;\n",
       "    }\n",
       "\n",
       "    .dataframe thead th {\n",
       "        text-align: right;\n",
       "    }\n",
       "</style>\n",
       "<table border=\"1\" class=\"dataframe\">\n",
       "  <thead>\n",
       "    <tr style=\"text-align: right;\">\n",
       "      <th></th>\n",
       "      <th>pos</th>\n",
       "    </tr>\n",
       "  </thead>\n",
       "  <tbody>\n",
       "    <tr>\n",
       "      <th>count</th>\n",
       "      <td>481</td>\n",
       "    </tr>\n",
       "    <tr>\n",
       "      <th>unique</th>\n",
       "      <td>7</td>\n",
       "    </tr>\n",
       "    <tr>\n",
       "      <th>top</th>\n",
       "      <td>SG</td>\n",
       "    </tr>\n",
       "    <tr>\n",
       "      <th>freq</th>\n",
       "      <td>109</td>\n",
       "    </tr>\n",
       "  </tbody>\n",
       "</table>\n",
       "</div>"
      ],
      "text/plain": [
       "        pos\n",
       "count   481\n",
       "unique    7\n",
       "top      SG\n",
       "freq    109"
      ]
     },
     "execution_count": 14,
     "metadata": {},
     "output_type": "execute_result"
    }
   ],
   "source": [
    "nba.describe(include=[np.object]) # np.object for object type data"
   ]
  },
  {
   "cell_type": "markdown",
   "metadata": {},
   "source": [
    "# Data Visualisation"
   ]
  },
  {
   "cell_type": "code",
   "execution_count": 15,
   "metadata": {},
   "outputs": [
    {
     "data": {
      "image/png": "[encoded data removed]",
      "text/plain": [
       "<Figure size 1440x1080 with 30 Axes>"
      ]
     },
     "metadata": {},
     "output_type": "display_data"
    }
   ],
   "source": [
    "# Training Set\n",
    "nba.hist(bins=50, figsize=(20,15))\n",
    "plt.show()"
   ]
  },
  {
   "cell_type": "markdown",
   "metadata": {},
   "source": [
    "### Label - OneHotEncoding"
   ]
  },
  {
   "cell_type": "code",
   "execution_count": 16,
   "metadata": {},
   "outputs": [],
   "source": [
    "# Replacing catgeories as numberic object before passing to machine learning model\n",
    "nba = nba.join(pd.get_dummies(nba['pos'], prefix='pos').iloc[:,:-1])\n",
    "nba = nba.drop('pos', axis=1)"
   ]
  },
  {
   "cell_type": "code",
   "execution_count": 17,
   "metadata": {},
   "outputs": [
    {
     "data": {
      "text/html": [
       "<div>\n",
       "<style scoped>\n",
       "    .dataframe tbody tr th:only-of-type {\n",
       "        vertical-align: middle;\n",
       "    }\n",
       "\n",
       "    .dataframe tbody tr th {\n",
       "        vertical-align: top;\n",
       "    }\n",
       "\n",
       "    .dataframe thead th {\n",
       "        text-align: right;\n",
       "    }\n",
       "</style>\n",
       "<table border=\"1\" class=\"dataframe\">\n",
       "  <thead>\n",
       "    <tr style=\"text-align: right;\">\n",
       "      <th></th>\n",
       "      <th>age</th>\n",
       "      <th>g</th>\n",
       "      <th>gs</th>\n",
       "      <th>mp</th>\n",
       "      <th>fg</th>\n",
       "      <th>fga</th>\n",
       "      <th>fg.</th>\n",
       "      <th>x3p</th>\n",
       "      <th>x3pa</th>\n",
       "      <th>x3p.</th>\n",
       "      <th>...</th>\n",
       "      <th>blk</th>\n",
       "      <th>tov</th>\n",
       "      <th>pf</th>\n",
       "      <th>pts</th>\n",
       "      <th>pos_C</th>\n",
       "      <th>pos_F</th>\n",
       "      <th>pos_G</th>\n",
       "      <th>pos_PF</th>\n",
       "      <th>pos_PG</th>\n",
       "      <th>pos_SF</th>\n",
       "    </tr>\n",
       "  </thead>\n",
       "  <tbody>\n",
       "    <tr>\n",
       "      <th>0</th>\n",
       "      <td>23</td>\n",
       "      <td>63</td>\n",
       "      <td>0</td>\n",
       "      <td>847</td>\n",
       "      <td>66</td>\n",
       "      <td>141</td>\n",
       "      <td>0.468</td>\n",
       "      <td>4</td>\n",
       "      <td>15</td>\n",
       "      <td>0.266667</td>\n",
       "      <td>...</td>\n",
       "      <td>26</td>\n",
       "      <td>30</td>\n",
       "      <td>122</td>\n",
       "      <td>171</td>\n",
       "      <td>0</td>\n",
       "      <td>0</td>\n",
       "      <td>0</td>\n",
       "      <td>0</td>\n",
       "      <td>0</td>\n",
       "      <td>1</td>\n",
       "    </tr>\n",
       "    <tr>\n",
       "      <th>1</th>\n",
       "      <td>20</td>\n",
       "      <td>81</td>\n",
       "      <td>20</td>\n",
       "      <td>1197</td>\n",
       "      <td>93</td>\n",
       "      <td>185</td>\n",
       "      <td>0.503</td>\n",
       "      <td>0</td>\n",
       "      <td>0</td>\n",
       "      <td>0.330976</td>\n",
       "      <td>...</td>\n",
       "      <td>57</td>\n",
       "      <td>71</td>\n",
       "      <td>203</td>\n",
       "      <td>265</td>\n",
       "      <td>1</td>\n",
       "      <td>0</td>\n",
       "      <td>0</td>\n",
       "      <td>0</td>\n",
       "      <td>0</td>\n",
       "      <td>0</td>\n",
       "    </tr>\n",
       "  </tbody>\n",
       "</table>\n",
       "<p>2 rows × 32 columns</p>\n",
       "</div>"
      ],
      "text/plain": [
       "   age   g  gs    mp  fg  fga    fg.  x3p  x3pa      x3p.   ...    blk  tov  \\\n",
       "0   23  63   0   847  66  141  0.468    4    15  0.266667   ...     26   30   \n",
       "1   20  81  20  1197  93  185  0.503    0     0  0.330976   ...     57   71   \n",
       "\n",
       "    pf  pts  pos_C  pos_F  pos_G  pos_PF  pos_PG  pos_SF  \n",
       "0  122  171      0      0      0       0       0       1  \n",
       "1  203  265      1      0      0       0       0       0  \n",
       "\n",
       "[2 rows x 32 columns]"
      ]
     },
     "execution_count": 17,
     "metadata": {},
     "output_type": "execute_result"
    }
   ],
   "source": [
    "nba.head(2)"
   ]
  },
  {
   "cell_type": "markdown",
   "metadata": {},
   "source": [
    "### Feature and Target variables "
   ]
  },
  {
   "cell_type": "code",
   "execution_count": 18,
   "metadata": {},
   "outputs": [],
   "source": [
    "df_target = nba['pts'] #Selection of points (pts) variable\n",
    "df_feature = nba.drop('pts',axis = 1)"
   ]
  },
  {
   "cell_type": "code",
   "execution_count": 19,
   "metadata": {},
   "outputs": [
    {
     "data": {
      "text/plain": [
       "(0    171\n",
       " 1    265\n",
       " Name: pts, dtype: int64,\n",
       "    age   g  gs    mp  fg  fga    fg.  x3p  x3pa      x3p.   ...    stl  blk  \\\n",
       " 0   23  63   0   847  66  141  0.468    4    15  0.266667   ...     23   26   \n",
       " 1   20  81  20  1197  93  185  0.503    0     0  0.330976   ...     40   57   \n",
       " \n",
       "    tov   pf  pos_C  pos_F  pos_G  pos_PF  pos_PG  pos_SF  \n",
       " 0   30  122      0      0      0       0       0       1  \n",
       " 1   71  203      1      0      0       0       0       0  \n",
       " \n",
       " [2 rows x 31 columns])"
      ]
     },
     "execution_count": 19,
     "metadata": {},
     "output_type": "execute_result"
    }
   ],
   "source": [
    "# Sample rows\n",
    "df_target.head(2), df_feature.head(2)"
   ]
  },
  {
   "cell_type": "markdown",
   "metadata": {},
   "source": [
    "# Train & Test sets"
   ]
  },
  {
   "cell_type": "code",
   "execution_count": 20,
   "metadata": {},
   "outputs": [
    {
     "data": {
      "text/plain": [
       "((336, 31), (145, 31), (336,), (145,))"
      ]
     },
     "execution_count": 20,
     "metadata": {},
     "output_type": "execute_result"
    }
   ],
   "source": [
    "# Spliting Data to Train and test\n",
    "X_train , X_test , y_train , y_test= train_test_split(df_feature , df_target , random_state=25,test_size=0.3 , shuffle=True)\n",
    "X_train.shape,X_test.shape, y_train.shape,y_test.shape"
   ]
  },
  {
   "cell_type": "markdown",
   "metadata": {},
   "source": [
    "## Modeling - K-nearest neighbors"
   ]
  },
  {
   "cell_type": "code",
   "execution_count": 21,
   "metadata": {},
   "outputs": [],
   "source": [
    "#Setup arrays to store training and test accuracies\n",
    "neighbors = np.arange(1,10)\n",
    "train_accuracy =  {} # dictionary to hold score\n",
    "for i,k in enumerate(neighbors):\n",
    "    #Setup a knn classifier with k neighbors\n",
    "    knn = KNeighborsRegressor(n_neighbors=k)\n",
    "    #Fit the model using train data\n",
    "    knn.fit(X_train, y_train)\n",
    "    #Getting accuracy score for different K-value on Training set\n",
    "    train_accuracy[k]=knn.score(X_train, y_train)"
   ]
  },
  {
   "cell_type": "code",
   "execution_count": 22,
   "metadata": {},
   "outputs": [
    {
     "data": {
      "text/plain": [
       "{1: 1.0,\n",
       " 2: 0.9891586266446848,\n",
       " 3: 0.9853589126395186,\n",
       " 4: 0.9828843596374411,\n",
       " 5: 0.9822746390470796,\n",
       " 6: 0.9792089164860184,\n",
       " 7: 0.9765308507675173,\n",
       " 8: 0.9737272634312061,\n",
       " 9: 0.9725098421782812}"
      ]
     },
     "execution_count": 22,
     "metadata": {},
     "output_type": "execute_result"
    }
   ],
   "source": [
    "# Model accuracy with k value:\n",
    "train_accuracy"
   ]
  },
  {
   "cell_type": "code",
   "execution_count": 23,
   "metadata": {},
   "outputs": [
    {
     "data": {
      "text/html": [
       "<div>\n",
       "<style scoped>\n",
       "    .dataframe tbody tr th:only-of-type {\n",
       "        vertical-align: middle;\n",
       "    }\n",
       "\n",
       "    .dataframe tbody tr th {\n",
       "        vertical-align: top;\n",
       "    }\n",
       "\n",
       "    .dataframe thead th {\n",
       "        text-align: right;\n",
       "    }\n",
       "</style>\n",
       "<table border=\"1\" class=\"dataframe\">\n",
       "  <thead>\n",
       "    <tr style=\"text-align: right;\">\n",
       "      <th></th>\n",
       "      <th>K-Value</th>\n",
       "      <th>Accuracy_Score</th>\n",
       "    </tr>\n",
       "  </thead>\n",
       "  <tbody>\n",
       "    <tr>\n",
       "      <th>0</th>\n",
       "      <td>1</td>\n",
       "      <td>1.000000</td>\n",
       "    </tr>\n",
       "    <tr>\n",
       "      <th>1</th>\n",
       "      <td>2</td>\n",
       "      <td>0.989159</td>\n",
       "    </tr>\n",
       "    <tr>\n",
       "      <th>2</th>\n",
       "      <td>3</td>\n",
       "      <td>0.985359</td>\n",
       "    </tr>\n",
       "    <tr>\n",
       "      <th>3</th>\n",
       "      <td>4</td>\n",
       "      <td>0.982884</td>\n",
       "    </tr>\n",
       "    <tr>\n",
       "      <th>4</th>\n",
       "      <td>5</td>\n",
       "      <td>0.982275</td>\n",
       "    </tr>\n",
       "    <tr>\n",
       "      <th>5</th>\n",
       "      <td>6</td>\n",
       "      <td>0.979209</td>\n",
       "    </tr>\n",
       "    <tr>\n",
       "      <th>6</th>\n",
       "      <td>7</td>\n",
       "      <td>0.976531</td>\n",
       "    </tr>\n",
       "    <tr>\n",
       "      <th>7</th>\n",
       "      <td>8</td>\n",
       "      <td>0.973727</td>\n",
       "    </tr>\n",
       "    <tr>\n",
       "      <th>8</th>\n",
       "      <td>9</td>\n",
       "      <td>0.972510</td>\n",
       "    </tr>\n",
       "  </tbody>\n",
       "</table>\n",
       "</div>"
      ],
      "text/plain": [
       "   K-Value  Accuracy_Score\n",
       "0        1        1.000000\n",
       "1        2        0.989159\n",
       "2        3        0.985359\n",
       "3        4        0.982884\n",
       "4        5        0.982275\n",
       "5        6        0.979209\n",
       "6        7        0.976531\n",
       "7        8        0.973727\n",
       "8        9        0.972510"
      ]
     },
     "execution_count": 23,
     "metadata": {},
     "output_type": "execute_result"
    }
   ],
   "source": [
    "#Converting train_accuracy into dataframe \n",
    "df_Train_accuracy_Score = pd.DataFrame( list(zip(train_accuracy.keys() , train_accuracy.values())) , columns=['K-Value', 'Accuracy_Score']  )\n",
    "df_Train_accuracy_Score"
   ]
  },
  {
   "cell_type": "code",
   "execution_count": 24,
   "metadata": {},
   "outputs": [
    {
     "data": {
      "image/png": "[encoded data removed]",
      "text/plain": [
       "<Figure size 432x288 with 1 Axes>"
      ]
     },
     "metadata": {},
     "output_type": "display_data"
    }
   ],
   "source": [
    "# Plot Between K-Value and Model Accuracy Score\n",
    "plt.title('k-NN Varying number of neighbors')\n",
    "plt.plot(df_Train_accuracy_Score['K-Value'], df_Train_accuracy_Score['Accuracy_Score'], label='Training accuracy')\n",
    "plt.legend()\n",
    "plt.xlabel('Number of neighbors (K-Value)')\n",
    "plt.ylabel('Accuracy')\n",
    "plt.show()"
   ]
  },
  {
   "cell_type": "markdown",
   "metadata": {},
   "source": [
    "Looks like, k = 4 would be optimal for this case."
   ]
  },
  {
   "cell_type": "code",
   "execution_count": 25,
   "metadata": {},
   "outputs": [
    {
     "data": {
      "text/plain": [
       "KNeighborsRegressor(algorithm='auto', leaf_size=30, metric='minkowski',\n",
       "          metric_params=None, n_jobs=1, n_neighbors=4, p=2,\n",
       "          weights='uniform')"
      ]
     },
     "execution_count": 25,
     "metadata": {},
     "output_type": "execute_result"
    }
   ],
   "source": [
    "# re-fitting model with k value as 4\n",
    "knn_reg = KNeighborsRegressor(n_neighbors=4 , algorithm='auto', weights='uniform')\n",
    "knn_reg.fit(X_train, y_train)"
   ]
  },
  {
   "cell_type": "code",
   "execution_count": 26,
   "metadata": {},
   "outputs": [
    {
     "name": "stdout",
     "output_type": "stream",
     "text": [
      "Model (Test Set) :  0.9752721285759218\n"
     ]
    }
   ],
   "source": [
    "# Model Accuarcy Score on test set\n",
    "accuracy_Score_test = knn_reg.score(X=X_test, y=y_test)\n",
    "print(\"Model (Test Set) : \",accuracy_Score_test)"
   ]
  },
  {
   "cell_type": "code",
   "execution_count": 27,
   "metadata": {},
   "outputs": [],
   "source": [
    "# Predicting the points using the model\n",
    "y_test_pred = knn_reg.predict(X_test)"
   ]
  },
  {
   "cell_type": "code",
   "execution_count": 28,
   "metadata": {},
   "outputs": [
    {
     "data": {
      "text/plain": [
       "array([1151.25,  709.25,  579.75, 1033.5 ,  283.  ])"
      ]
     },
     "execution_count": 28,
     "metadata": {},
     "output_type": "execute_result"
    }
   ],
   "source": [
    "# printing first 5 values\n",
    "y_test_pred[:5]"
   ]
  },
  {
   "cell_type": "code",
   "execution_count": 29,
   "metadata": {},
   "outputs": [
    {
     "data": {
      "image/png": "[encoded data removed]",
      "text/plain": [
       "<Figure size 1152x648 with 1 Axes>"
      ]
     },
     "metadata": {},
     "output_type": "display_data"
    }
   ],
   "source": [
    "#Scatter Plot of \"Actual vs predicted values\"\n",
    "plt.figure(figsize=(16,9))\n",
    "plt.title(\"Scatter Plot (Test set)\")\n",
    "plt.xlabel(\"Actual total points the player scored (Test set)\")\n",
    "plt.ylabel(\"Predicted total points the player scored (Test set)\")\n",
    "plt.scatter(y_test,y_test_pred)\n",
    "plt.show()"
   ]
  },
  {
   "cell_type": "markdown",
   "metadata": {},
   "source": [
    "#### Model Evalution"
   ]
  },
  {
   "cell_type": "code",
   "execution_count": 30,
   "metadata": {},
   "outputs": [
    {
     "name": "stdout",
     "output_type": "stream",
     "text": [
      "Mean Absolute Error on Test dataset: 45.543103448275865\n",
      "Mean Squared Error on Test dataset: 4934.975431034482\n",
      "Root Mean Squared Error on Test dataset: 70.24938028932698\n"
     ]
    }
   ],
   "source": [
    "from math import sqrt\n",
    "mean_absolute_error_test = mean_absolute_error(y_test,y_test_pred)\n",
    "mean_sqaured_error_test = mean_squared_error(y_test,y_test_pred)\n",
    "root_mean_sqaured_error_test = sqrt(mean_sqaured_error_test)\n",
    "print('Mean Absolute Error on Test dataset:', mean_absolute_error_test)  \n",
    "print('Mean Squared Error on Test dataset:', mean_sqaured_error_test)  \n",
    "print('Root Mean Squared Error on Test dataset:', root_mean_sqaured_error_test)"
   ]
  },
  {
   "cell_type": "markdown",
   "metadata": {},
   "source": [
    "#### Model Tuning using Gridsearch CV"
   ]
  },
  {
   "cell_type": "code",
   "execution_count": 31,
   "metadata": {},
   "outputs": [
    {
     "data": {
      "text/plain": [
       "{'n_neighbors': 4}"
      ]
     },
     "execution_count": 31,
     "metadata": {},
     "output_type": "execute_result"
    }
   ],
   "source": [
    "neighbor_params = {'n_neighbors':[2,3,4,5,6,7,8,9]}\n",
    "knn = KNeighborsRegressor()\n",
    "# Selecting GridSearchCV with KNN model\n",
    "modelSearch_GrdCV = GridSearchCV(knn, neighbor_params, cv=10)\n",
    "modelSearch_GrdCV.fit(X_train,y_train)\n",
    "modelSearch_GrdCV.best_params_"
   ]
  },
  {
   "cell_type": "code",
   "execution_count": 32,
   "metadata": {},
   "outputs": [
    {
     "data": {
      "text/plain": [
       "0.9752721285759218"
      ]
     },
     "execution_count": 32,
     "metadata": {},
     "output_type": "execute_result"
    }
   ],
   "source": [
    "# Model accuracy score\n",
    "modelSearch_GrdCV.score(X_test, y_test)"
   ]
  },
  {
   "cell_type": "markdown",
   "metadata": {},
   "source": [
    "Hence, KNN regressor with 4 negibour achieves the best accuracy (0.9752 i.e about 97.52%) for the given dataset. "
   ]
  }
 ],
 "metadata": {
  "kernelspec": {
   "display_name": "Python 3",
   "language": "python",
   "name": "python3"
  },
  "language_info": {
   "codemirror_mode": {
    "name": "ipython",
    "version": 3
   },
   "file_extension": ".py",
   "mimetype": "text/x-python",
   "name": "python",
   "nbconvert_exporter": "python",
   "pygments_lexer": "ipython3",
   "version": "3.6.5"
  }
 },
 "nbformat": 4,
 "nbformat_minor": 2
}
